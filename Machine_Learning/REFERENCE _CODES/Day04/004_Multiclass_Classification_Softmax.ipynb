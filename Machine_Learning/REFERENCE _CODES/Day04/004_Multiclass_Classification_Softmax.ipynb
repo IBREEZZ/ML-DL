{
 "cells": [
  {
   "cell_type": "markdown",
   "id": "1e51267b",
   "metadata": {},
   "source": [
    "# Multiclass Classification with Logistic Regression using Softmax and O-V-A"
   ]
  },
  {
   "cell_type": "markdown",
   "id": "91e962fb",
   "metadata": {},
   "source": [
    "1. One-vs-All (default option)\n",
    "2. Softmax (multinomial)"
   ]
  },
  {
   "cell_type": "code",
   "execution_count": 18,
   "id": "69f7551e",
   "metadata": {},
   "outputs": [],
   "source": [
    "import time\n",
    "import numpy as np\n",
    "from sklearn import datasets\n",
    "from sklearn.linear_model import LogisticRegression\n",
    "from sklearn.model_selection import train_test_split\n",
    "from sklearn.metrics import accuracy_score"
   ]
  },
  {
   "cell_type": "code",
   "execution_count": 2,
   "id": "b9d56e4e",
   "metadata": {},
   "outputs": [],
   "source": [
    "# Load the digits dataset\n",
    "digits = datasets.load_digits()\n",
    "X = digits.data\n",
    "y = digits.target"
   ]
  },
  {
   "cell_type": "code",
   "execution_count": 13,
   "id": "5e75251e",
   "metadata": {},
   "outputs": [
    {
     "data": {
      "text/plain": [
       "10"
      ]
     },
     "execution_count": 13,
     "metadata": {},
     "output_type": "execute_result"
    }
   ],
   "source": [
    "np.unique(y).__len__()"
   ]
  },
  {
   "cell_type": "code",
   "execution_count": 14,
   "id": "d248cfc3",
   "metadata": {},
   "outputs": [],
   "source": [
    "# Split into training and testing sets\n",
    "X_train, X_test, y_train, y_test = train_test_split(X, y, test_size=0.3, random_state=42)"
   ]
  },
  {
   "cell_type": "markdown",
   "id": "41ea0f6d",
   "metadata": {},
   "source": [
    "## Logistic Regression: One-vs-All"
   ]
  },
  {
   "cell_type": "code",
   "execution_count": 19,
   "id": "ae0bac17",
   "metadata": {},
   "outputs": [
    {
     "name": "stdout",
     "output_type": "stream",
     "text": [
      "One-vs-All Accuracy: 0.9685\n",
      "One-vs-All Training Time: 0.2450 seconds\n"
     ]
    }
   ],
   "source": [
    "start_time = time.time()\n",
    "model_ova = LogisticRegression(max_iter=10000, random_state=42)\n",
    "model_ova.fit(X_train, y_train)\n",
    "end_time = time.time()\n",
    "\n",
    "# Predict and evaluate\n",
    "y_pred_ova = model_ova.predict(X_test)\n",
    "accuracy_ova = accuracy_score(y_test, y_pred_ova)\n",
    "time_ova = end_time - start_time\n",
    "\n",
    "print(f\"One-vs-All Accuracy: {accuracy_ova:.4f}\")\n",
    "print(f\"One-vs-All Training Time: {time_ova:.4f} seconds\")"
   ]
  },
  {
   "cell_type": "markdown",
   "id": "cefb2bd9",
   "metadata": {},
   "source": [
    "## Logistic Regression: Softmax (multinomial)"
   ]
  },
  {
   "cell_type": "code",
   "execution_count": 20,
   "id": "71e6f58c",
   "metadata": {},
   "outputs": [
    {
     "name": "stderr",
     "output_type": "stream",
     "text": [
      "/opt/conda/envs/py39_base/lib/python3.9/site-packages/sklearn/linear_model/_logistic.py:1247: FutureWarning: 'multi_class' was deprecated in version 1.5 and will be removed in 1.7. From then on, it will always use 'multinomial'. Leave it to its default value to avoid this warning.\n",
      "  warnings.warn(\n"
     ]
    },
    {
     "name": "stdout",
     "output_type": "stream",
     "text": [
      "Softmax Accuracy: 0.9685\n",
      "Softmax Training Time: 0.2244 seconds\n"
     ]
    }
   ],
   "source": [
    "# Train logistic regression with softmax\n",
    "start_time = time.time()\n",
    "model_softmax = LogisticRegression(max_iter=10000, multi_class='multinomial', solver='lbfgs', random_state=42)\n",
    "model_softmax.fit(X_train, y_train)\n",
    "end_time = time.time()\n",
    "\n",
    "# Predict and evaluate\n",
    "y_pred_softmax = model_softmax.predict(X_test)\n",
    "accuracy_softmax = accuracy_score(y_test, y_pred_softmax)\n",
    "time_softmax = end_time - start_time\n",
    "\n",
    "print(f\"Softmax Accuracy: {accuracy_softmax:.4f}\")\n",
    "print(f\"Softmax Training Time: {time_softmax:.4f} seconds\")"
   ]
  },
  {
   "cell_type": "markdown",
   "id": "a67294f6",
   "metadata": {},
   "source": [
    "## Compare the Results"
   ]
  },
  {
   "cell_type": "code",
   "execution_count": 21,
   "id": "fc40d457",
   "metadata": {},
   "outputs": [
    {
     "name": "stdout",
     "output_type": "stream",
     "text": [
      "Comparison of Logistic Regression Approaches:\n",
      "One-vs-All: Accuracy = 0.9685, Time = 0.2450 seconds\n",
      "Softmax: Accuracy = 0.9685, Time = 0.2244 seconds\n"
     ]
    }
   ],
   "source": [
    "# Compare results\n",
    "print(\"Comparison of Logistic Regression Approaches:\")\n",
    "print(f\"One-vs-All: Accuracy = {accuracy_ova:.4f}, Time = {time_ova:.4f} seconds\")\n",
    "print(f\"Softmax: Accuracy = {accuracy_softmax:.4f}, Time = {time_softmax:.4f} seconds\")"
   ]
  },
  {
   "cell_type": "code",
   "execution_count": null,
   "id": "1a87370b",
   "metadata": {},
   "outputs": [],
   "source": []
  }
 ],
 "metadata": {
  "kernelspec": {
   "display_name": "Python 3 (ipykernel)",
   "language": "python",
   "name": "python3"
  },
  "language_info": {
   "codemirror_mode": {
    "name": "ipython",
    "version": 3
   },
   "file_extension": ".py",
   "mimetype": "text/x-python",
   "name": "python",
   "nbconvert_exporter": "python",
   "pygments_lexer": "ipython3",
   "version": "3.13.2"
  }
 },
 "nbformat": 4,
 "nbformat_minor": 5
}
