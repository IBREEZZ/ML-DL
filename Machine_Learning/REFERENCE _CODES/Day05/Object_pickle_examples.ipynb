{
 "cells": [
  {
   "cell_type": "code",
   "execution_count": null,
   "id": "12f3a0b1",
   "metadata": {},
   "outputs": [],
   "source": [
    "import pickle\n",
    "from sklearn.datasets import load_iris\n",
    "from sklearn.model_selection import cross_val_score\n",
    "from sklearn.ensemble import RandomForestClassifier"
   ]
  },
  {
   "cell_type": "code",
   "execution_count": null,
   "id": "c2d9b719",
   "metadata": {},
   "outputs": [],
   "source": []
  },
  {
   "cell_type": "code",
   "execution_count": 2,
   "id": "a285dada",
   "metadata": {},
   "outputs": [
    {
     "name": "stdout",
     "output_type": "stream",
     "text": [
      "Cross-validation scores: [0.96666667 0.96666667 0.93333333 0.96666667 1.        ]\n"
     ]
    }
   ],
   "source": [
    "# Load dataset\n",
    "X, y = load_iris(return_X_y=True)\n",
    "\n",
    "# Initialize model\n",
    "clf = RandomForestClassifier(random_state=42)\n",
    "\n",
    "# Perform cross-validation\n",
    "cv_scores = cross_val_score(clf, X, y, cv=5)\n",
    "print(\"Cross-validation scores:\", cv_scores)"
   ]
  },
  {
   "cell_type": "code",
   "execution_count": null,
   "id": "3fd33ef9",
   "metadata": {},
   "outputs": [],
   "source": []
  },
  {
   "cell_type": "code",
   "execution_count": 4,
   "id": "9e80b86e",
   "metadata": {},
   "outputs": [],
   "source": [
    "# Save cross-validation scores to a pickle file\n",
    "with open(\"./Storage/cv_scores.pkl\", \"wb\") as f:\n",
    "    pickle.dump(cv_scores, f)"
   ]
  },
  {
   "cell_type": "markdown",
   "id": "dc4613d2",
   "metadata": {},
   "source": [
    "## Load the Pickled Object"
   ]
  },
  {
   "cell_type": "code",
   "execution_count": 5,
   "id": "20003a7f",
   "metadata": {},
   "outputs": [
    {
     "name": "stdout",
     "output_type": "stream",
     "text": [
      "Loaded cross-validation scores: [0.96666667 0.96666667 0.93333333 0.96666667 1.        ]\n"
     ]
    }
   ],
   "source": [
    "# Load cross-validation scores from the pickle file\n",
    "with open(\"Storage/cv_scores.pkl\", \"rb\") as f:\n",
    "    loaded_cv_scores = pickle.load(f)\n",
    "\n",
    "print(\"Loaded cross-validation scores:\", loaded_cv_scores)"
   ]
  },
  {
   "cell_type": "code",
   "execution_count": null,
   "id": "4897e5d8",
   "metadata": {},
   "outputs": [],
   "source": []
  },
  {
   "cell_type": "code",
   "execution_count": 7,
   "id": "6e2d35ea",
   "metadata": {},
   "outputs": [],
   "source": [
    "# Example: Save and load a trained model\n",
    "clf.fit(X, y)\n",
    "with open(\"./Storage/rf_model.pkl\", \"wb\") as f:\n",
    "    pickle.dump(clf, f)"
   ]
  },
  {
   "cell_type": "code",
   "execution_count": 8,
   "id": "b62139bb",
   "metadata": {},
   "outputs": [
    {
     "name": "stdout",
     "output_type": "stream",
     "text": [
      "Loaded model predicts: [0 0 0 0 0]\n"
     ]
    }
   ],
   "source": [
    "with open(\"./Storage/rf_model.pkl\", \"rb\") as f:\n",
    "    loaded_clf = pickle.load(f)\n",
    "\n",
    "print(\"Loaded model predicts:\", loaded_clf.predict(X[:5]))"
   ]
  },
  {
   "cell_type": "code",
   "execution_count": null,
   "id": "14c2465f",
   "metadata": {},
   "outputs": [],
   "source": []
  }
 ],
 "metadata": {
  "kernelspec": {
   "display_name": "py39_ml",
   "language": "python",
   "name": "python3"
  },
  "language_info": {
   "codemirror_mode": {
    "name": "ipython",
    "version": 3
   },
   "file_extension": ".py",
   "mimetype": "text/x-python",
   "name": "python",
   "nbconvert_exporter": "python",
   "pygments_lexer": "ipython3",
   "version": "3.9.23"
  }
 },
 "nbformat": 4,
 "nbformat_minor": 5
}
