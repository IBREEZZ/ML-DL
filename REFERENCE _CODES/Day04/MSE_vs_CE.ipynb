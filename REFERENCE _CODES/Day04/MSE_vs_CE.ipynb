{
 "cells": [
  {
   "cell_type": "code",
   "execution_count": 1,
   "id": "34d1a1ec-a668-4ad7-a524-5f321acd590e",
   "metadata": {},
   "outputs": [],
   "source": [
    "import numpy as np"
   ]
  },
  {
   "cell_type": "code",
   "execution_count": null,
   "id": "40b16388-3604-402c-b11a-0f50b78b83ed",
   "metadata": {},
   "outputs": [],
   "source": []
  },
  {
   "cell_type": "code",
   "execution_count": 2,
   "id": "e2955fbf-2cd8-42a6-a74d-e129c4eae6c7",
   "metadata": {},
   "outputs": [],
   "source": [
    "def MSE(y, y_hat):\n",
    "    return ((y - y_hat) ** 2)"
   ]
  },
  {
   "cell_type": "code",
   "execution_count": 3,
   "id": "e1d04ea1-2a15-4124-9a7e-066c4abc2f3d",
   "metadata": {},
   "outputs": [],
   "source": [
    "def CE(y, y_hat):\n",
    "    return -((y * np.log(y_hat)) + ((1 - y) * np.log(1 - y_hat)))"
   ]
  },
  {
   "cell_type": "code",
   "execution_count": null,
   "id": "b81bd85f-e012-4a0a-84c5-b6ebc83bde3f",
   "metadata": {},
   "outputs": [],
   "source": []
  },
  {
   "cell_type": "code",
   "execution_count": null,
   "id": "a61ea014-093e-4a66-acbc-c56d7cec54f1",
   "metadata": {},
   "outputs": [],
   "source": []
  },
  {
   "cell_type": "code",
   "execution_count": 4,
   "id": "7872447f-433f-4183-b263-0b774aa13826",
   "metadata": {},
   "outputs": [
    {
     "data": {
      "text/plain": [
       "(0.81, 2.302585092994046)"
      ]
     },
     "execution_count": 4,
     "metadata": {},
     "output_type": "execute_result"
    }
   ],
   "source": [
    "MSE(0, 0.9), CE(0, 0.9)"
   ]
  },
  {
   "cell_type": "code",
   "execution_count": 5,
   "id": "d898a2ea-fcd4-4329-8237-e9448dd16a73",
   "metadata": {},
   "outputs": [
    {
     "data": {
      "text/plain": [
       "(0.36, 0.916290731874155)"
      ]
     },
     "execution_count": 5,
     "metadata": {},
     "output_type": "execute_result"
    }
   ],
   "source": [
    "MSE(1, 0.4), CE(1, 0.4)"
   ]
  },
  {
   "cell_type": "code",
   "execution_count": null,
   "id": "29c3d0b0-fafc-4328-ba1e-3e57f9a299ec",
   "metadata": {},
   "outputs": [],
   "source": []
  },
  {
   "cell_type": "code",
   "execution_count": null,
   "id": "eb8d370e-e508-40c8-a697-15a9fda572a0",
   "metadata": {},
   "outputs": [],
   "source": []
  },
  {
   "cell_type": "code",
   "execution_count": null,
   "id": "8823adb9-70e9-4933-9223-6219f5213538",
   "metadata": {},
   "outputs": [],
   "source": []
  }
 ],
 "metadata": {
  "kernelspec": {
   "display_name": "(00) Python 3.9 - ML",
   "language": "python",
   "name": "py39_ml"
  },
  "language_info": {
   "codemirror_mode": {
    "name": "ipython",
    "version": 3
   },
   "file_extension": ".py",
   "mimetype": "text/x-python",
   "name": "python",
   "nbconvert_exporter": "python",
   "pygments_lexer": "ipython3",
   "version": "3.9.23"
  }
 },
 "nbformat": 4,
 "nbformat_minor": 5
}
