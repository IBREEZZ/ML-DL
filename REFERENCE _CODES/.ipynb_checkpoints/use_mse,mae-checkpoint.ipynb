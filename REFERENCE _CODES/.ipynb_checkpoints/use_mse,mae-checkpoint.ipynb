{
 "cells": [
  {
   "cell_type": "code",
   "execution_count": 4,
   "id": "25a944a0-f18a-48ab-a7d7-d00aa2274af8",
   "metadata": {},
   "outputs": [],
   "source": [
    "import numpy as np\n",
    "from sklearn.metrics import mean_absolute_error , mean_squared_error"
   ]
  },
  {
   "cell_type": "code",
   "execution_count": 5,
   "id": "78abd2f6-facb-4bd0-bb52-0a9277626898",
   "metadata": {},
   "outputs": [],
   "source": [
    "y = [85,75,65]\n",
    "y_h =[65,55,45]\n"
   ]
  },
  {
   "cell_type": "code",
   "execution_count": 6,
   "id": "7e12e626-ce67-4b46-be52-8fb2ed2a7df8",
   "metadata": {},
   "outputs": [],
   "source": [
    "mse = mean_squared_error(y,y_h)\n",
    "mae = mean_absolute_error(y,y_h)"
   ]
  },
  {
   "cell_type": "code",
   "execution_count": 7,
   "id": "96a10a80-0d7f-4a63-91bb-63465f8d115c",
   "metadata": {},
   "outputs": [
    {
     "name": "stdout",
     "output_type": "stream",
     "text": [
      "MSE:  400.0\n",
      "MAE:  20.0\n"
     ]
    }
   ],
   "source": [
    "print('MSE: ', mse)\n",
    "print('MAE: ', mae)"
   ]
  },
  {
   "cell_type": "code",
   "execution_count": null,
   "id": "85118fd5-3e3f-41c3-95e6-04c9867bb4f2",
   "metadata": {},
   "outputs": [],
   "source": []
  }
 ],
 "metadata": {
  "kernelspec": {
   "display_name": "(00) Python 3.9 - ML",
   "language": "python",
   "name": "py39_ml"
  },
  "language_info": {
   "codemirror_mode": {
    "name": "ipython",
    "version": 3
   },
   "file_extension": ".py",
   "mimetype": "text/x-python",
   "name": "python",
   "nbconvert_exporter": "python",
   "pygments_lexer": "ipython3",
   "version": "3.9.23"
  }
 },
 "nbformat": 4,
 "nbformat_minor": 5
}
