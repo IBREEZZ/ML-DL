{
 "cells": [
  {
   "cell_type": "code",
   "execution_count": 1,
   "id": "c2c3376c",
   "metadata": {},
   "outputs": [],
   "source": [
    "import numpy as np\n",
    "from sklearn.linear_model import LinearRegression, SGDRegressor\n",
    "import warnings\n",
    "warnings.filterwarnings(\"ignore\", category=FutureWarning)"
   ]
  },
  {
   "cell_type": "code",
   "execution_count": 2,
   "id": "65b26ad6",
   "metadata": {},
   "outputs": [],
   "source": [
    "X = np.random.randint(0, 100, size=1000).astype(float).reshape((-1, 1))\n",
    "y = X * 0.54 \n",
    "y = y + 98.124"
   ]
  },
  {
   "cell_type": "code",
   "execution_count": 3,
   "id": "a26be064",
   "metadata": {},
   "outputs": [
    {
     "data": {
      "text/plain": [
       "((1000, 1), (1000, 1))"
      ]
     },
     "execution_count": 3,
     "metadata": {},
     "output_type": "execute_result"
    }
   ],
   "source": [
    "X.shape, y.shape "
   ]
  },
  {
   "cell_type": "code",
   "execution_count": null,
   "id": "0a04f941",
   "metadata": {},
   "outputs": [],
   "source": []
  },
  {
   "cell_type": "code",
   "execution_count": 4,
   "id": "488dfde3",
   "metadata": {},
   "outputs": [
    {
     "name": "stderr",
     "output_type": "stream",
     "text": [
      "/opt/conda/envs/py39_ml/lib/python3.9/site-packages/sklearn/utils/validation.py:1408: DataConversionWarning: A column-vector y was passed when a 1d array was expected. Please change the shape of y to (n_samples, ), for example using ravel().\n",
      "  y = column_or_1d(y, warn=True)\n",
      "/opt/conda/envs/py39_ml/lib/python3.9/site-packages/sklearn/utils/validation.py:1408: DataConversionWarning: A column-vector y was passed when a 1d array was expected. Please change the shape of y to (n_samples, ), for example using ravel().\n",
      "  y = column_or_1d(y, warn=True)\n",
      "/opt/conda/envs/py39_ml/lib/python3.9/site-packages/sklearn/linear_model/_stochastic_gradient.py:1608: ConvergenceWarning: Maximum number of iteration reached before convergence. Consider increasing max_iter to improve the fit.\n",
      "  warnings.warn(\n",
      "/opt/conda/envs/py39_ml/lib/python3.9/site-packages/sklearn/utils/validation.py:1408: DataConversionWarning: A column-vector y was passed when a 1d array was expected. Please change the shape of y to (n_samples, ), for example using ravel().\n",
      "  y = column_or_1d(y, warn=True)\n",
      "/opt/conda/envs/py39_ml/lib/python3.9/site-packages/sklearn/linear_model/_stochastic_gradient.py:1608: ConvergenceWarning: Maximum number of iteration reached before convergence. Consider increasing max_iter to improve the fit.\n",
      "  warnings.warn(\n",
      "/opt/conda/envs/py39_ml/lib/python3.9/site-packages/sklearn/utils/validation.py:1408: DataConversionWarning: A column-vector y was passed when a 1d array was expected. Please change the shape of y to (n_samples, ), for example using ravel().\n",
      "  y = column_or_1d(y, warn=True)\n"
     ]
    },
    {
     "name": "stdout",
     "output_type": "stream",
     "text": [
      "0: lr: (array([0.54]), 98.12400000000002) - lr_gd: (0.5452502567672413, 97.76243611674329)\n",
      "1: lr: (array([0.54]), 98.12400000000002) - lr_gd: (0.131434420274634, 118.54430752821425)\n",
      "2: lr: (array([0.54]), 98.12400000000002) - lr_gd: (-0.4317889846069989, 159.03536124192854)\n"
     ]
    },
    {
     "name": "stderr",
     "output_type": "stream",
     "text": [
      "/opt/conda/envs/py39_ml/lib/python3.9/site-packages/sklearn/linear_model/_stochastic_gradient.py:1608: ConvergenceWarning: Maximum number of iteration reached before convergence. Consider increasing max_iter to improve the fit.\n",
      "  warnings.warn(\n",
      "/opt/conda/envs/py39_ml/lib/python3.9/site-packages/sklearn/utils/validation.py:1408: DataConversionWarning: A column-vector y was passed when a 1d array was expected. Please change the shape of y to (n_samples, ), for example using ravel().\n",
      "  y = column_or_1d(y, warn=True)\n",
      "/opt/conda/envs/py39_ml/lib/python3.9/site-packages/sklearn/linear_model/_stochastic_gradient.py:1608: ConvergenceWarning: Maximum number of iteration reached before convergence. Consider increasing max_iter to improve the fit.\n",
      "  warnings.warn(\n",
      "/opt/conda/envs/py39_ml/lib/python3.9/site-packages/sklearn/utils/validation.py:1408: DataConversionWarning: A column-vector y was passed when a 1d array was expected. Please change the shape of y to (n_samples, ), for example using ravel().\n",
      "  y = column_or_1d(y, warn=True)\n",
      "/opt/conda/envs/py39_ml/lib/python3.9/site-packages/sklearn/linear_model/_stochastic_gradient.py:1608: ConvergenceWarning: Maximum number of iteration reached before convergence. Consider increasing max_iter to improve the fit.\n",
      "  warnings.warn(\n",
      "/opt/conda/envs/py39_ml/lib/python3.9/site-packages/sklearn/utils/validation.py:1408: DataConversionWarning: A column-vector y was passed when a 1d array was expected. Please change the shape of y to (n_samples, ), for example using ravel().\n",
      "  y = column_or_1d(y, warn=True)\n"
     ]
    },
    {
     "name": "stdout",
     "output_type": "stream",
     "text": [
      "3: lr: (array([0.54]), 98.12400000000002) - lr_gd: (0.8129909020365101, 78.4792954964085)\n",
      "4: lr: (array([0.54]), 98.12400000000002) - lr_gd: (-0.11667246488942302, 141.55964823480485)\n",
      "5: lr: (array([0.54]), 98.12400000000002) - lr_gd: (-0.35114929742689427, 147.50562443468795)\n"
     ]
    },
    {
     "name": "stderr",
     "output_type": "stream",
     "text": [
      "/opt/conda/envs/py39_ml/lib/python3.9/site-packages/sklearn/linear_model/_stochastic_gradient.py:1608: ConvergenceWarning: Maximum number of iteration reached before convergence. Consider increasing max_iter to improve the fit.\n",
      "  warnings.warn(\n",
      "/opt/conda/envs/py39_ml/lib/python3.9/site-packages/sklearn/utils/validation.py:1408: DataConversionWarning: A column-vector y was passed when a 1d array was expected. Please change the shape of y to (n_samples, ), for example using ravel().\n",
      "  y = column_or_1d(y, warn=True)\n",
      "/opt/conda/envs/py39_ml/lib/python3.9/site-packages/sklearn/linear_model/_stochastic_gradient.py:1608: ConvergenceWarning: Maximum number of iteration reached before convergence. Consider increasing max_iter to improve the fit.\n",
      "  warnings.warn(\n",
      "/opt/conda/envs/py39_ml/lib/python3.9/site-packages/sklearn/utils/validation.py:1408: DataConversionWarning: A column-vector y was passed when a 1d array was expected. Please change the shape of y to (n_samples, ), for example using ravel().\n",
      "  y = column_or_1d(y, warn=True)\n",
      "/opt/conda/envs/py39_ml/lib/python3.9/site-packages/sklearn/linear_model/_stochastic_gradient.py:1608: ConvergenceWarning: Maximum number of iteration reached before convergence. Consider increasing max_iter to improve the fit.\n",
      "  warnings.warn(\n",
      "/opt/conda/envs/py39_ml/lib/python3.9/site-packages/sklearn/utils/validation.py:1408: DataConversionWarning: A column-vector y was passed when a 1d array was expected. Please change the shape of y to (n_samples, ), for example using ravel().\n",
      "  y = column_or_1d(y, warn=True)\n"
     ]
    },
    {
     "name": "stdout",
     "output_type": "stream",
     "text": [
      "6: lr: (array([0.54]), 98.12400000000002) - lr_gd: (1.7341227158428894, 25.07380415067886)\n",
      "7: lr: (array([0.54]), 98.12400000000002) - lr_gd: (0.5738242985679487, 96.35364051517136)\n",
      "8: lr: (array([0.54]), 98.12400000000002) - lr_gd: (0.5294235447885897, 98.89700337393168)\n"
     ]
    },
    {
     "name": "stderr",
     "output_type": "stream",
     "text": [
      "/opt/conda/envs/py39_ml/lib/python3.9/site-packages/sklearn/linear_model/_stochastic_gradient.py:1608: ConvergenceWarning: Maximum number of iteration reached before convergence. Consider increasing max_iter to improve the fit.\n",
      "  warnings.warn(\n",
      "/opt/conda/envs/py39_ml/lib/python3.9/site-packages/sklearn/utils/validation.py:1408: DataConversionWarning: A column-vector y was passed when a 1d array was expected. Please change the shape of y to (n_samples, ), for example using ravel().\n",
      "  y = column_or_1d(y, warn=True)\n",
      "/opt/conda/envs/py39_ml/lib/python3.9/site-packages/sklearn/linear_model/_stochastic_gradient.py:1608: ConvergenceWarning: Maximum number of iteration reached before convergence. Consider increasing max_iter to improve the fit.\n",
      "  warnings.warn(\n",
      "/opt/conda/envs/py39_ml/lib/python3.9/site-packages/sklearn/utils/validation.py:1408: DataConversionWarning: A column-vector y was passed when a 1d array was expected. Please change the shape of y to (n_samples, ), for example using ravel().\n",
      "  y = column_or_1d(y, warn=True)\n",
      "/opt/conda/envs/py39_ml/lib/python3.9/site-packages/sklearn/linear_model/_stochastic_gradient.py:1608: ConvergenceWarning: Maximum number of iteration reached before convergence. Consider increasing max_iter to improve the fit.\n",
      "  warnings.warn(\n",
      "/opt/conda/envs/py39_ml/lib/python3.9/site-packages/sklearn/utils/validation.py:1408: DataConversionWarning: A column-vector y was passed when a 1d array was expected. Please change the shape of y to (n_samples, ), for example using ravel().\n",
      "  y = column_or_1d(y, warn=True)\n"
     ]
    },
    {
     "name": "stdout",
     "output_type": "stream",
     "text": [
      "9: lr: (array([0.54]), 98.12400000000002) - lr_gd: (1.804080119677016, 16.552856355102573)\n",
      "10: lr: (array([0.54]), 98.12400000000002) - lr_gd: (0.9881029280315771, 64.49534360677137)\n",
      "11: lr: (array([0.54]), 98.12400000000002) - lr_gd: (1.5657900669747744, 40.81778159076577)\n"
     ]
    },
    {
     "name": "stderr",
     "output_type": "stream",
     "text": [
      "/opt/conda/envs/py39_ml/lib/python3.9/site-packages/sklearn/linear_model/_stochastic_gradient.py:1608: ConvergenceWarning: Maximum number of iteration reached before convergence. Consider increasing max_iter to improve the fit.\n",
      "  warnings.warn(\n",
      "/opt/conda/envs/py39_ml/lib/python3.9/site-packages/sklearn/utils/validation.py:1408: DataConversionWarning: A column-vector y was passed when a 1d array was expected. Please change the shape of y to (n_samples, ), for example using ravel().\n",
      "  y = column_or_1d(y, warn=True)\n",
      "/opt/conda/envs/py39_ml/lib/python3.9/site-packages/sklearn/linear_model/_stochastic_gradient.py:1608: ConvergenceWarning: Maximum number of iteration reached before convergence. Consider increasing max_iter to improve the fit.\n",
      "  warnings.warn(\n",
      "/opt/conda/envs/py39_ml/lib/python3.9/site-packages/sklearn/utils/validation.py:1408: DataConversionWarning: A column-vector y was passed when a 1d array was expected. Please change the shape of y to (n_samples, ), for example using ravel().\n",
      "  y = column_or_1d(y, warn=True)\n",
      "/opt/conda/envs/py39_ml/lib/python3.9/site-packages/sklearn/linear_model/_stochastic_gradient.py:1608: ConvergenceWarning: Maximum number of iteration reached before convergence. Consider increasing max_iter to improve the fit.\n",
      "  warnings.warn(\n",
      "/opt/conda/envs/py39_ml/lib/python3.9/site-packages/sklearn/utils/validation.py:1408: DataConversionWarning: A column-vector y was passed when a 1d array was expected. Please change the shape of y to (n_samples, ), for example using ravel().\n",
      "  y = column_or_1d(y, warn=True)\n"
     ]
    },
    {
     "name": "stdout",
     "output_type": "stream",
     "text": [
      "12: lr: (array([0.54]), 98.12400000000002) - lr_gd: (0.3047923340063505, 114.79217126658749)\n",
      "13: lr: (array([0.54]), 98.12400000000002) - lr_gd: (0.13919732193763054, 125.54999303181073)\n",
      "14: lr: (array([0.54]), 98.12400000000002) - lr_gd: (0.544737560683289, 97.77702772184458)\n"
     ]
    },
    {
     "name": "stderr",
     "output_type": "stream",
     "text": [
      "/opt/conda/envs/py39_ml/lib/python3.9/site-packages/sklearn/linear_model/_stochastic_gradient.py:1608: ConvergenceWarning: Maximum number of iteration reached before convergence. Consider increasing max_iter to improve the fit.\n",
      "  warnings.warn(\n",
      "/opt/conda/envs/py39_ml/lib/python3.9/site-packages/sklearn/utils/validation.py:1408: DataConversionWarning: A column-vector y was passed when a 1d array was expected. Please change the shape of y to (n_samples, ), for example using ravel().\n",
      "  y = column_or_1d(y, warn=True)\n",
      "/opt/conda/envs/py39_ml/lib/python3.9/site-packages/sklearn/linear_model/_stochastic_gradient.py:1608: ConvergenceWarning: Maximum number of iteration reached before convergence. Consider increasing max_iter to improve the fit.\n",
      "  warnings.warn(\n",
      "/opt/conda/envs/py39_ml/lib/python3.9/site-packages/sklearn/utils/validation.py:1408: DataConversionWarning: A column-vector y was passed when a 1d array was expected. Please change the shape of y to (n_samples, ), for example using ravel().\n",
      "  y = column_or_1d(y, warn=True)\n",
      "/opt/conda/envs/py39_ml/lib/python3.9/site-packages/sklearn/linear_model/_stochastic_gradient.py:1608: ConvergenceWarning: Maximum number of iteration reached before convergence. Consider increasing max_iter to improve the fit.\n",
      "  warnings.warn(\n",
      "/opt/conda/envs/py39_ml/lib/python3.9/site-packages/sklearn/utils/validation.py:1408: DataConversionWarning: A column-vector y was passed when a 1d array was expected. Please change the shape of y to (n_samples, ), for example using ravel().\n",
      "  y = column_or_1d(y, warn=True)\n"
     ]
    },
    {
     "name": "stdout",
     "output_type": "stream",
     "text": [
      "15: lr: (array([0.54]), 98.12400000000002) - lr_gd: (-2.2250219908753204, 341.70718756544153)\n",
      "16: lr: (array([0.54]), 98.12400000000002) - lr_gd: (-0.20077501601606015, 151.67293782623594)\n",
      "17: lr: (array([0.54]), 98.12400000000002) - lr_gd: (-0.672594541866921, 181.1641306796975)\n"
     ]
    },
    {
     "name": "stderr",
     "output_type": "stream",
     "text": [
      "/opt/conda/envs/py39_ml/lib/python3.9/site-packages/sklearn/linear_model/_stochastic_gradient.py:1608: ConvergenceWarning: Maximum number of iteration reached before convergence. Consider increasing max_iter to improve the fit.\n",
      "  warnings.warn(\n",
      "/opt/conda/envs/py39_ml/lib/python3.9/site-packages/sklearn/utils/validation.py:1408: DataConversionWarning: A column-vector y was passed when a 1d array was expected. Please change the shape of y to (n_samples, ), for example using ravel().\n",
      "  y = column_or_1d(y, warn=True)\n",
      "/opt/conda/envs/py39_ml/lib/python3.9/site-packages/sklearn/linear_model/_stochastic_gradient.py:1608: ConvergenceWarning: Maximum number of iteration reached before convergence. Consider increasing max_iter to improve the fit.\n",
      "  warnings.warn(\n",
      "/opt/conda/envs/py39_ml/lib/python3.9/site-packages/sklearn/utils/validation.py:1408: DataConversionWarning: A column-vector y was passed when a 1d array was expected. Please change the shape of y to (n_samples, ), for example using ravel().\n",
      "  y = column_or_1d(y, warn=True)\n",
      "/opt/conda/envs/py39_ml/lib/python3.9/site-packages/sklearn/linear_model/_stochastic_gradient.py:1608: ConvergenceWarning: Maximum number of iteration reached before convergence. Consider increasing max_iter to improve the fit.\n",
      "  warnings.warn(\n",
      "/opt/conda/envs/py39_ml/lib/python3.9/site-packages/sklearn/utils/validation.py:1408: DataConversionWarning: A column-vector y was passed when a 1d array was expected. Please change the shape of y to (n_samples, ), for example using ravel().\n",
      "  y = column_or_1d(y, warn=True)\n",
      "/opt/conda/envs/py39_ml/lib/python3.9/site-packages/sklearn/linear_model/_stochastic_gradient.py:1608: ConvergenceWarning: Maximum number of iteration reached before convergence. Consider increasing max_iter to improve the fit.\n",
      "  warnings.warn(\n",
      "/opt/conda/envs/py39_ml/lib/python3.9/site-packages/sklearn/utils/validation.py:1408: DataConversionWarning: A column-vector y was passed when a 1d array was expected. Please change the shape of y to (n_samples, ), for example using ravel().\n",
      "  y = column_or_1d(y, warn=True)\n"
     ]
    },
    {
     "name": "stdout",
     "output_type": "stream",
     "text": [
      "18: lr: (array([0.54]), 98.12400000000002) - lr_gd: (1.1970663551953802, 51.00832972410974)\n",
      "19: lr: (array([0.54]), 98.12400000000002) - lr_gd: (0.6082067745498622, 92.87370941314764)\n",
      "20: lr: (array([0.54]), 98.12400000000002) - lr_gd: (0.5113308945700598, 100.44226112411876)\n",
      "21: lr: (array([0.54]), 98.12400000000002) - lr_gd: (0.8676790968943173, 75.0049710316848)\n"
     ]
    },
    {
     "name": "stderr",
     "output_type": "stream",
     "text": [
      "/opt/conda/envs/py39_ml/lib/python3.9/site-packages/sklearn/linear_model/_stochastic_gradient.py:1608: ConvergenceWarning: Maximum number of iteration reached before convergence. Consider increasing max_iter to improve the fit.\n",
      "  warnings.warn(\n",
      "/opt/conda/envs/py39_ml/lib/python3.9/site-packages/sklearn/utils/validation.py:1408: DataConversionWarning: A column-vector y was passed when a 1d array was expected. Please change the shape of y to (n_samples, ), for example using ravel().\n",
      "  y = column_or_1d(y, warn=True)\n",
      "/opt/conda/envs/py39_ml/lib/python3.9/site-packages/sklearn/linear_model/_stochastic_gradient.py:1608: ConvergenceWarning: Maximum number of iteration reached before convergence. Consider increasing max_iter to improve the fit.\n",
      "  warnings.warn(\n",
      "/opt/conda/envs/py39_ml/lib/python3.9/site-packages/sklearn/utils/validation.py:1408: DataConversionWarning: A column-vector y was passed when a 1d array was expected. Please change the shape of y to (n_samples, ), for example using ravel().\n",
      "  y = column_or_1d(y, warn=True)\n",
      "/opt/conda/envs/py39_ml/lib/python3.9/site-packages/sklearn/linear_model/_stochastic_gradient.py:1608: ConvergenceWarning: Maximum number of iteration reached before convergence. Consider increasing max_iter to improve the fit.\n",
      "  warnings.warn(\n",
      "/opt/conda/envs/py39_ml/lib/python3.9/site-packages/sklearn/utils/validation.py:1408: DataConversionWarning: A column-vector y was passed when a 1d array was expected. Please change the shape of y to (n_samples, ), for example using ravel().\n",
      "  y = column_or_1d(y, warn=True)\n",
      "/opt/conda/envs/py39_ml/lib/python3.9/site-packages/sklearn/linear_model/_stochastic_gradient.py:1608: ConvergenceWarning: Maximum number of iteration reached before convergence. Consider increasing max_iter to improve the fit.\n",
      "  warnings.warn(\n",
      "/opt/conda/envs/py39_ml/lib/python3.9/site-packages/sklearn/utils/validation.py:1408: DataConversionWarning: A column-vector y was passed when a 1d array was expected. Please change the shape of y to (n_samples, ), for example using ravel().\n",
      "  y = column_or_1d(y, warn=True)\n"
     ]
    },
    {
     "name": "stdout",
     "output_type": "stream",
     "text": [
      "22: lr: (array([0.54]), 98.12400000000002) - lr_gd: (0.9388489447896055, 65.2079084536072)\n",
      "23: lr: (array([0.54]), 98.12400000000002) - lr_gd: (0.5867334648420253, 95.25617276935485)\n",
      "24: lr: (array([0.54]), 98.12400000000002) - lr_gd: (-0.35317719588377433, 158.2959274595901)\n",
      "25: lr: (array([0.54]), 98.12400000000002) - lr_gd: (0.28952411056385696, 112.90808434685698)\n"
     ]
    },
    {
     "name": "stderr",
     "output_type": "stream",
     "text": [
      "/opt/conda/envs/py39_ml/lib/python3.9/site-packages/sklearn/linear_model/_stochastic_gradient.py:1608: ConvergenceWarning: Maximum number of iteration reached before convergence. Consider increasing max_iter to improve the fit.\n",
      "  warnings.warn(\n",
      "/opt/conda/envs/py39_ml/lib/python3.9/site-packages/sklearn/utils/validation.py:1408: DataConversionWarning: A column-vector y was passed when a 1d array was expected. Please change the shape of y to (n_samples, ), for example using ravel().\n",
      "  y = column_or_1d(y, warn=True)\n",
      "/opt/conda/envs/py39_ml/lib/python3.9/site-packages/sklearn/linear_model/_stochastic_gradient.py:1608: ConvergenceWarning: Maximum number of iteration reached before convergence. Consider increasing max_iter to improve the fit.\n",
      "  warnings.warn(\n",
      "/opt/conda/envs/py39_ml/lib/python3.9/site-packages/sklearn/utils/validation.py:1408: DataConversionWarning: A column-vector y was passed when a 1d array was expected. Please change the shape of y to (n_samples, ), for example using ravel().\n",
      "  y = column_or_1d(y, warn=True)\n",
      "/opt/conda/envs/py39_ml/lib/python3.9/site-packages/sklearn/linear_model/_stochastic_gradient.py:1608: ConvergenceWarning: Maximum number of iteration reached before convergence. Consider increasing max_iter to improve the fit.\n",
      "  warnings.warn(\n",
      "/opt/conda/envs/py39_ml/lib/python3.9/site-packages/sklearn/utils/validation.py:1408: DataConversionWarning: A column-vector y was passed when a 1d array was expected. Please change the shape of y to (n_samples, ), for example using ravel().\n",
      "  y = column_or_1d(y, warn=True)\n"
     ]
    },
    {
     "name": "stdout",
     "output_type": "stream",
     "text": [
      "26: lr: (array([0.54]), 98.12400000000002) - lr_gd: (0.1695779911179822, 129.10448730515003)\n",
      "27: lr: (array([0.54]), 98.12400000000002) - lr_gd: (-0.18582791385572323, 141.40473613327134)\n",
      "28: lr: (array([0.54]), 98.12400000000002) - lr_gd: (-0.20623125879470233, 148.510486363884)\n"
     ]
    },
    {
     "name": "stderr",
     "output_type": "stream",
     "text": [
      "/opt/conda/envs/py39_ml/lib/python3.9/site-packages/sklearn/linear_model/_stochastic_gradient.py:1608: ConvergenceWarning: Maximum number of iteration reached before convergence. Consider increasing max_iter to improve the fit.\n",
      "  warnings.warn(\n",
      "/opt/conda/envs/py39_ml/lib/python3.9/site-packages/sklearn/utils/validation.py:1408: DataConversionWarning: A column-vector y was passed when a 1d array was expected. Please change the shape of y to (n_samples, ), for example using ravel().\n",
      "  y = column_or_1d(y, warn=True)\n",
      "/opt/conda/envs/py39_ml/lib/python3.9/site-packages/sklearn/linear_model/_stochastic_gradient.py:1608: ConvergenceWarning: Maximum number of iteration reached before convergence. Consider increasing max_iter to improve the fit.\n",
      "  warnings.warn(\n",
      "/opt/conda/envs/py39_ml/lib/python3.9/site-packages/sklearn/utils/validation.py:1408: DataConversionWarning: A column-vector y was passed when a 1d array was expected. Please change the shape of y to (n_samples, ), for example using ravel().\n",
      "  y = column_or_1d(y, warn=True)\n",
      "/opt/conda/envs/py39_ml/lib/python3.9/site-packages/sklearn/linear_model/_stochastic_gradient.py:1608: ConvergenceWarning: Maximum number of iteration reached before convergence. Consider increasing max_iter to improve the fit.\n",
      "  warnings.warn(\n",
      "/opt/conda/envs/py39_ml/lib/python3.9/site-packages/sklearn/utils/validation.py:1408: DataConversionWarning: A column-vector y was passed when a 1d array was expected. Please change the shape of y to (n_samples, ), for example using ravel().\n",
      "  y = column_or_1d(y, warn=True)\n",
      "/opt/conda/envs/py39_ml/lib/python3.9/site-packages/sklearn/linear_model/_stochastic_gradient.py:1608: ConvergenceWarning: Maximum number of iteration reached before convergence. Consider increasing max_iter to improve the fit.\n",
      "  warnings.warn(\n",
      "/opt/conda/envs/py39_ml/lib/python3.9/site-packages/sklearn/utils/validation.py:1408: DataConversionWarning: A column-vector y was passed when a 1d array was expected. Please change the shape of y to (n_samples, ), for example using ravel().\n",
      "  y = column_or_1d(y, warn=True)\n"
     ]
    },
    {
     "name": "stdout",
     "output_type": "stream",
     "text": [
      "29: lr: (array([0.54]), 98.12400000000002) - lr_gd: (0.7326412516152744, 85.26055073551368)\n",
      "30: lr: (array([0.54]), 98.12400000000002) - lr_gd: (1.0635276048842537, 70.32261476480083)\n",
      "31: lr: (array([0.54]), 98.12400000000002) - lr_gd: (-0.21425399081112398, 146.1283701101197)\n",
      "32: lr: (array([0.54]), 98.12400000000002) - lr_gd: (2.0308256243823504, 12.829759343888446)\n"
     ]
    },
    {
     "name": "stderr",
     "output_type": "stream",
     "text": [
      "/opt/conda/envs/py39_ml/lib/python3.9/site-packages/sklearn/linear_model/_stochastic_gradient.py:1608: ConvergenceWarning: Maximum number of iteration reached before convergence. Consider increasing max_iter to improve the fit.\n",
      "  warnings.warn(\n",
      "/opt/conda/envs/py39_ml/lib/python3.9/site-packages/sklearn/utils/validation.py:1408: DataConversionWarning: A column-vector y was passed when a 1d array was expected. Please change the shape of y to (n_samples, ), for example using ravel().\n",
      "  y = column_or_1d(y, warn=True)\n",
      "/opt/conda/envs/py39_ml/lib/python3.9/site-packages/sklearn/linear_model/_stochastic_gradient.py:1608: ConvergenceWarning: Maximum number of iteration reached before convergence. Consider increasing max_iter to improve the fit.\n",
      "  warnings.warn(\n",
      "/opt/conda/envs/py39_ml/lib/python3.9/site-packages/sklearn/utils/validation.py:1408: DataConversionWarning: A column-vector y was passed when a 1d array was expected. Please change the shape of y to (n_samples, ), for example using ravel().\n",
      "  y = column_or_1d(y, warn=True)\n",
      "/opt/conda/envs/py39_ml/lib/python3.9/site-packages/sklearn/linear_model/_stochastic_gradient.py:1608: ConvergenceWarning: Maximum number of iteration reached before convergence. Consider increasing max_iter to improve the fit.\n",
      "  warnings.warn(\n",
      "/opt/conda/envs/py39_ml/lib/python3.9/site-packages/sklearn/utils/validation.py:1408: DataConversionWarning: A column-vector y was passed when a 1d array was expected. Please change the shape of y to (n_samples, ), for example using ravel().\n",
      "  y = column_or_1d(y, warn=True)\n",
      "/opt/conda/envs/py39_ml/lib/python3.9/site-packages/sklearn/linear_model/_stochastic_gradient.py:1608: ConvergenceWarning: Maximum number of iteration reached before convergence. Consider increasing max_iter to improve the fit.\n",
      "  warnings.warn(\n",
      "/opt/conda/envs/py39_ml/lib/python3.9/site-packages/sklearn/utils/validation.py:1408: DataConversionWarning: A column-vector y was passed when a 1d array was expected. Please change the shape of y to (n_samples, ), for example using ravel().\n",
      "  y = column_or_1d(y, warn=True)\n"
     ]
    },
    {
     "name": "stdout",
     "output_type": "stream",
     "text": [
      "33: lr: (array([0.54]), 98.12400000000002) - lr_gd: (0.4700772361844483, 101.9825179749779)\n",
      "34: lr: (array([0.54]), 98.12400000000002) - lr_gd: (0.7929586205164025, 82.12301486227874)\n",
      "35: lr: (array([0.54]), 98.12400000000002) - lr_gd: (1.503613697894748, 30.710682217571613)\n",
      "36: lr: (array([0.54]), 98.12400000000002) - lr_gd: (0.48211317473277415, 102.40566817348797)\n"
     ]
    },
    {
     "name": "stderr",
     "output_type": "stream",
     "text": [
      "/opt/conda/envs/py39_ml/lib/python3.9/site-packages/sklearn/linear_model/_stochastic_gradient.py:1608: ConvergenceWarning: Maximum number of iteration reached before convergence. Consider increasing max_iter to improve the fit.\n",
      "  warnings.warn(\n",
      "/opt/conda/envs/py39_ml/lib/python3.9/site-packages/sklearn/utils/validation.py:1408: DataConversionWarning: A column-vector y was passed when a 1d array was expected. Please change the shape of y to (n_samples, ), for example using ravel().\n",
      "  y = column_or_1d(y, warn=True)\n",
      "/opt/conda/envs/py39_ml/lib/python3.9/site-packages/sklearn/linear_model/_stochastic_gradient.py:1608: ConvergenceWarning: Maximum number of iteration reached before convergence. Consider increasing max_iter to improve the fit.\n",
      "  warnings.warn(\n",
      "/opt/conda/envs/py39_ml/lib/python3.9/site-packages/sklearn/utils/validation.py:1408: DataConversionWarning: A column-vector y was passed when a 1d array was expected. Please change the shape of y to (n_samples, ), for example using ravel().\n",
      "  y = column_or_1d(y, warn=True)\n",
      "/opt/conda/envs/py39_ml/lib/python3.9/site-packages/sklearn/linear_model/_stochastic_gradient.py:1608: ConvergenceWarning: Maximum number of iteration reached before convergence. Consider increasing max_iter to improve the fit.\n",
      "  warnings.warn(\n",
      "/opt/conda/envs/py39_ml/lib/python3.9/site-packages/sklearn/utils/validation.py:1408: DataConversionWarning: A column-vector y was passed when a 1d array was expected. Please change the shape of y to (n_samples, ), for example using ravel().\n",
      "  y = column_or_1d(y, warn=True)\n",
      "/opt/conda/envs/py39_ml/lib/python3.9/site-packages/sklearn/linear_model/_stochastic_gradient.py:1608: ConvergenceWarning: Maximum number of iteration reached before convergence. Consider increasing max_iter to improve the fit.\n",
      "  warnings.warn(\n",
      "/opt/conda/envs/py39_ml/lib/python3.9/site-packages/sklearn/utils/validation.py:1408: DataConversionWarning: A column-vector y was passed when a 1d array was expected. Please change the shape of y to (n_samples, ), for example using ravel().\n",
      "  y = column_or_1d(y, warn=True)\n"
     ]
    },
    {
     "name": "stdout",
     "output_type": "stream",
     "text": [
      "37: lr: (array([0.54]), 98.12400000000002) - lr_gd: (0.6927862954877925, 89.20033309029384)\n",
      "38: lr: (array([0.54]), 98.12400000000002) - lr_gd: (1.4578496483494705, 33.433736551861905)\n",
      "39: lr: (array([0.54]), 98.12400000000002) - lr_gd: (0.6452555251553785, 90.24521370002512)\n",
      "40: lr: (array([0.54]), 98.12400000000002) - lr_gd: (1.5469279636133688, 15.761210826902667)\n"
     ]
    },
    {
     "name": "stderr",
     "output_type": "stream",
     "text": [
      "/opt/conda/envs/py39_ml/lib/python3.9/site-packages/sklearn/linear_model/_stochastic_gradient.py:1608: ConvergenceWarning: Maximum number of iteration reached before convergence. Consider increasing max_iter to improve the fit.\n",
      "  warnings.warn(\n",
      "/opt/conda/envs/py39_ml/lib/python3.9/site-packages/sklearn/utils/validation.py:1408: DataConversionWarning: A column-vector y was passed when a 1d array was expected. Please change the shape of y to (n_samples, ), for example using ravel().\n",
      "  y = column_or_1d(y, warn=True)\n",
      "/opt/conda/envs/py39_ml/lib/python3.9/site-packages/sklearn/linear_model/_stochastic_gradient.py:1608: ConvergenceWarning: Maximum number of iteration reached before convergence. Consider increasing max_iter to improve the fit.\n",
      "  warnings.warn(\n",
      "/opt/conda/envs/py39_ml/lib/python3.9/site-packages/sklearn/utils/validation.py:1408: DataConversionWarning: A column-vector y was passed when a 1d array was expected. Please change the shape of y to (n_samples, ), for example using ravel().\n",
      "  y = column_or_1d(y, warn=True)\n",
      "/opt/conda/envs/py39_ml/lib/python3.9/site-packages/sklearn/linear_model/_stochastic_gradient.py:1608: ConvergenceWarning: Maximum number of iteration reached before convergence. Consider increasing max_iter to improve the fit.\n",
      "  warnings.warn(\n",
      "/opt/conda/envs/py39_ml/lib/python3.9/site-packages/sklearn/utils/validation.py:1408: DataConversionWarning: A column-vector y was passed when a 1d array was expected. Please change the shape of y to (n_samples, ), for example using ravel().\n",
      "  y = column_or_1d(y, warn=True)\n",
      "/opt/conda/envs/py39_ml/lib/python3.9/site-packages/sklearn/linear_model/_stochastic_gradient.py:1608: ConvergenceWarning: Maximum number of iteration reached before convergence. Consider increasing max_iter to improve the fit.\n",
      "  warnings.warn(\n",
      "/opt/conda/envs/py39_ml/lib/python3.9/site-packages/sklearn/utils/validation.py:1408: DataConversionWarning: A column-vector y was passed when a 1d array was expected. Please change the shape of y to (n_samples, ), for example using ravel().\n",
      "  y = column_or_1d(y, warn=True)\n"
     ]
    },
    {
     "name": "stdout",
     "output_type": "stream",
     "text": [
      "41: lr: (array([0.54]), 98.12400000000002) - lr_gd: (1.131860904043156, 56.88067175185435)\n",
      "42: lr: (array([0.54]), 98.12400000000002) - lr_gd: (0.37411985986588236, 107.01531742947509)\n",
      "43: lr: (array([0.54]), 98.12400000000002) - lr_gd: (0.8129136426247565, 78.71111315054442)\n",
      "44: lr: (array([0.54]), 98.12400000000002) - lr_gd: (0.6635466294562072, 89.26996049853823)\n",
      "45: lr: (array([0.54]), 98.12400000000002) - lr_gd: (1.6687506455902548, 16.871365872440997)\n",
      "46: lr: (array([0.54]), 98.12400000000002) - lr_gd: (-0.4655459885732884, 166.5142360615919)\n",
      "47: lr: (array([0.54]), 98.12400000000002) - lr_gd: (0.6131815914571598, 93.3062735267097)\n",
      "48: lr: (array([0.54]), 98.12400000000002) - lr_gd: (-0.0020234312152462353, 132.55917494120501)\n",
      "49: lr: (array([0.54]), 98.12400000000002) - lr_gd: (0.1505422027831934, 125.00119693496141)\n"
     ]
    },
    {
     "name": "stderr",
     "output_type": "stream",
     "text": [
      "/opt/conda/envs/py39_ml/lib/python3.9/site-packages/sklearn/linear_model/_stochastic_gradient.py:1608: ConvergenceWarning: Maximum number of iteration reached before convergence. Consider increasing max_iter to improve the fit.\n",
      "  warnings.warn(\n",
      "/opt/conda/envs/py39_ml/lib/python3.9/site-packages/sklearn/utils/validation.py:1408: DataConversionWarning: A column-vector y was passed when a 1d array was expected. Please change the shape of y to (n_samples, ), for example using ravel().\n",
      "  y = column_or_1d(y, warn=True)\n",
      "/opt/conda/envs/py39_ml/lib/python3.9/site-packages/sklearn/linear_model/_stochastic_gradient.py:1608: ConvergenceWarning: Maximum number of iteration reached before convergence. Consider increasing max_iter to improve the fit.\n",
      "  warnings.warn(\n",
      "/opt/conda/envs/py39_ml/lib/python3.9/site-packages/sklearn/utils/validation.py:1408: DataConversionWarning: A column-vector y was passed when a 1d array was expected. Please change the shape of y to (n_samples, ), for example using ravel().\n",
      "  y = column_or_1d(y, warn=True)\n",
      "/opt/conda/envs/py39_ml/lib/python3.9/site-packages/sklearn/linear_model/_stochastic_gradient.py:1608: ConvergenceWarning: Maximum number of iteration reached before convergence. Consider increasing max_iter to improve the fit.\n",
      "  warnings.warn(\n",
      "/opt/conda/envs/py39_ml/lib/python3.9/site-packages/sklearn/utils/validation.py:1408: DataConversionWarning: A column-vector y was passed when a 1d array was expected. Please change the shape of y to (n_samples, ), for example using ravel().\n",
      "  y = column_or_1d(y, warn=True)\n",
      "/opt/conda/envs/py39_ml/lib/python3.9/site-packages/sklearn/linear_model/_stochastic_gradient.py:1608: ConvergenceWarning: Maximum number of iteration reached before convergence. Consider increasing max_iter to improve the fit.\n",
      "  warnings.warn(\n",
      "/opt/conda/envs/py39_ml/lib/python3.9/site-packages/sklearn/utils/validation.py:1408: DataConversionWarning: A column-vector y was passed when a 1d array was expected. Please change the shape of y to (n_samples, ), for example using ravel().\n",
      "  y = column_or_1d(y, warn=True)\n",
      "/opt/conda/envs/py39_ml/lib/python3.9/site-packages/sklearn/linear_model/_stochastic_gradient.py:1608: ConvergenceWarning: Maximum number of iteration reached before convergence. Consider increasing max_iter to improve the fit.\n",
      "  warnings.warn(\n"
     ]
    }
   ],
   "source": [
    "results = []\n",
    "for i in range(50):\n",
    "    lr = LinearRegression()\n",
    "    lr_gd = SGDRegressor(max_iter=1000, learning_rate=\"adaptive\")\n",
    "    lr.fit(X, y), lr_gd.fit(X, y)\n",
    "    print(f\"{i}: lr: {lr.coef_[0], lr.intercept_[0]} - lr_gd: {lr_gd.coef_[0], lr_gd.intercept_[0]}\")\n",
    "    results.append(f\"{i}: lr: {lr.coef_[0], lr.intercept_[0]} - lr_gd: {lr_gd.coef_[0], lr_gd.intercept_[0]}\")"
   ]
  },
  {
   "cell_type": "code",
   "execution_count": null,
   "id": "569e0a6c",
   "metadata": {},
   "outputs": [],
   "source": []
  },
  {
   "cell_type": "code",
   "execution_count": 5,
   "id": "2830c3e0",
   "metadata": {},
   "outputs": [
    {
     "data": {
      "text/plain": [
       "['0: lr: (array([0.54]), 98.12400000000002) - lr_gd: (0.5452502567672413, 97.76243611674329)',\n",
       " '1: lr: (array([0.54]), 98.12400000000002) - lr_gd: (0.131434420274634, 118.54430752821425)',\n",
       " '2: lr: (array([0.54]), 98.12400000000002) - lr_gd: (-0.4317889846069989, 159.03536124192854)',\n",
       " '3: lr: (array([0.54]), 98.12400000000002) - lr_gd: (0.8129909020365101, 78.4792954964085)',\n",
       " '4: lr: (array([0.54]), 98.12400000000002) - lr_gd: (-0.11667246488942302, 141.55964823480485)',\n",
       " '5: lr: (array([0.54]), 98.12400000000002) - lr_gd: (-0.35114929742689427, 147.50562443468795)',\n",
       " '6: lr: (array([0.54]), 98.12400000000002) - lr_gd: (1.7341227158428894, 25.07380415067886)',\n",
       " '7: lr: (array([0.54]), 98.12400000000002) - lr_gd: (0.5738242985679487, 96.35364051517136)',\n",
       " '8: lr: (array([0.54]), 98.12400000000002) - lr_gd: (0.5294235447885897, 98.89700337393168)',\n",
       " '9: lr: (array([0.54]), 98.12400000000002) - lr_gd: (1.804080119677016, 16.552856355102573)',\n",
       " '10: lr: (array([0.54]), 98.12400000000002) - lr_gd: (0.9881029280315771, 64.49534360677137)',\n",
       " '11: lr: (array([0.54]), 98.12400000000002) - lr_gd: (1.5657900669747744, 40.81778159076577)',\n",
       " '12: lr: (array([0.54]), 98.12400000000002) - lr_gd: (0.3047923340063505, 114.79217126658749)',\n",
       " '13: lr: (array([0.54]), 98.12400000000002) - lr_gd: (0.13919732193763054, 125.54999303181073)',\n",
       " '14: lr: (array([0.54]), 98.12400000000002) - lr_gd: (0.544737560683289, 97.77702772184458)',\n",
       " '15: lr: (array([0.54]), 98.12400000000002) - lr_gd: (-2.2250219908753204, 341.70718756544153)',\n",
       " '16: lr: (array([0.54]), 98.12400000000002) - lr_gd: (-0.20077501601606015, 151.67293782623594)',\n",
       " '17: lr: (array([0.54]), 98.12400000000002) - lr_gd: (-0.672594541866921, 181.1641306796975)',\n",
       " '18: lr: (array([0.54]), 98.12400000000002) - lr_gd: (1.1970663551953802, 51.00832972410974)',\n",
       " '19: lr: (array([0.54]), 98.12400000000002) - lr_gd: (0.6082067745498622, 92.87370941314764)',\n",
       " '20: lr: (array([0.54]), 98.12400000000002) - lr_gd: (0.5113308945700598, 100.44226112411876)',\n",
       " '21: lr: (array([0.54]), 98.12400000000002) - lr_gd: (0.8676790968943173, 75.0049710316848)',\n",
       " '22: lr: (array([0.54]), 98.12400000000002) - lr_gd: (0.9388489447896055, 65.2079084536072)',\n",
       " '23: lr: (array([0.54]), 98.12400000000002) - lr_gd: (0.5867334648420253, 95.25617276935485)',\n",
       " '24: lr: (array([0.54]), 98.12400000000002) - lr_gd: (-0.35317719588377433, 158.2959274595901)',\n",
       " '25: lr: (array([0.54]), 98.12400000000002) - lr_gd: (0.28952411056385696, 112.90808434685698)',\n",
       " '26: lr: (array([0.54]), 98.12400000000002) - lr_gd: (0.1695779911179822, 129.10448730515003)',\n",
       " '27: lr: (array([0.54]), 98.12400000000002) - lr_gd: (-0.18582791385572323, 141.40473613327134)',\n",
       " '28: lr: (array([0.54]), 98.12400000000002) - lr_gd: (-0.20623125879470233, 148.510486363884)',\n",
       " '29: lr: (array([0.54]), 98.12400000000002) - lr_gd: (0.7326412516152744, 85.26055073551368)',\n",
       " '30: lr: (array([0.54]), 98.12400000000002) - lr_gd: (1.0635276048842537, 70.32261476480083)',\n",
       " '31: lr: (array([0.54]), 98.12400000000002) - lr_gd: (-0.21425399081112398, 146.1283701101197)',\n",
       " '32: lr: (array([0.54]), 98.12400000000002) - lr_gd: (2.0308256243823504, 12.829759343888446)',\n",
       " '33: lr: (array([0.54]), 98.12400000000002) - lr_gd: (0.4700772361844483, 101.9825179749779)',\n",
       " '34: lr: (array([0.54]), 98.12400000000002) - lr_gd: (0.7929586205164025, 82.12301486227874)',\n",
       " '35: lr: (array([0.54]), 98.12400000000002) - lr_gd: (1.503613697894748, 30.710682217571613)',\n",
       " '36: lr: (array([0.54]), 98.12400000000002) - lr_gd: (0.48211317473277415, 102.40566817348797)',\n",
       " '37: lr: (array([0.54]), 98.12400000000002) - lr_gd: (0.6927862954877925, 89.20033309029384)',\n",
       " '38: lr: (array([0.54]), 98.12400000000002) - lr_gd: (1.4578496483494705, 33.433736551861905)',\n",
       " '39: lr: (array([0.54]), 98.12400000000002) - lr_gd: (0.6452555251553785, 90.24521370002512)',\n",
       " '40: lr: (array([0.54]), 98.12400000000002) - lr_gd: (1.5469279636133688, 15.761210826902667)',\n",
       " '41: lr: (array([0.54]), 98.12400000000002) - lr_gd: (1.131860904043156, 56.88067175185435)',\n",
       " '42: lr: (array([0.54]), 98.12400000000002) - lr_gd: (0.37411985986588236, 107.01531742947509)',\n",
       " '43: lr: (array([0.54]), 98.12400000000002) - lr_gd: (0.8129136426247565, 78.71111315054442)',\n",
       " '44: lr: (array([0.54]), 98.12400000000002) - lr_gd: (0.6635466294562072, 89.26996049853823)',\n",
       " '45: lr: (array([0.54]), 98.12400000000002) - lr_gd: (1.6687506455902548, 16.871365872440997)',\n",
       " '46: lr: (array([0.54]), 98.12400000000002) - lr_gd: (-0.4655459885732884, 166.5142360615919)',\n",
       " '47: lr: (array([0.54]), 98.12400000000002) - lr_gd: (0.6131815914571598, 93.3062735267097)',\n",
       " '48: lr: (array([0.54]), 98.12400000000002) - lr_gd: (-0.0020234312152462353, 132.55917494120501)',\n",
       " '49: lr: (array([0.54]), 98.12400000000002) - lr_gd: (0.1505422027831934, 125.00119693496141)']"
      ]
     },
     "execution_count": 5,
     "metadata": {},
     "output_type": "execute_result"
    }
   ],
   "source": [
    "results"
   ]
  },
  {
   "cell_type": "code",
   "execution_count": null,
   "id": "5c6c043e",
   "metadata": {},
   "outputs": [],
   "source": []
  }
 ],
 "metadata": {
  "kernelspec": {
   "display_name": "(00) Python 3.9 - ML",
   "language": "python",
   "name": "py39_ml"
  },
  "language_info": {
   "codemirror_mode": {
    "name": "ipython",
    "version": 3
   },
   "file_extension": ".py",
   "mimetype": "text/x-python",
   "name": "python",
   "nbconvert_exporter": "python",
   "pygments_lexer": "ipython3",
   "version": "3.9.23"
  }
 },
 "nbformat": 4,
 "nbformat_minor": 5
}
